{
 "cells": [
  {
   "cell_type": "markdown",
   "metadata": {},
   "source": [
    "# Data Cleansing"
   ]
  },
  {
   "cell_type": "code",
   "execution_count": 1,
   "metadata": {},
   "outputs": [],
   "source": [
    "import pandas as pd\n",
    "from io import StringIO\n",
    "import json"
   ]
  },
  {
   "cell_type": "markdown",
   "metadata": {},
   "source": [
    "## Read Raw Data"
   ]
  },
  {
   "cell_type": "code",
   "execution_count": 2,
   "metadata": {},
   "outputs": [],
   "source": [
    "columns = ['video_id', 'title', 'channel_title', 'category_id',\n",
    "           'tags', 'views', 'likes', 'dislikes', 'comment_total',\n",
    "           'thumbnail_link', 'date']\n",
    "\n",
    "gb_videos = pd.read_csv('raw/GBvideos.csv', usecols=columns)\n",
    "us_videos = pd.read_csv('raw/USvideos.csv', usecols=columns)\n",
    "\n",
    "gb_videos['country'] = 'GB'\n",
    "us_videos['country'] = 'US'\n",
    "\n",
    "videos = pd.concat([gb_videos, us_videos], ignore_index=True)"
   ]
  },
  {
   "cell_type": "code",
   "execution_count": 3,
   "metadata": {},
   "outputs": [
    {
     "name": "stdout",
     "output_type": "stream",
     "text": [
      "['13.09' '14.09' '15.09' '16.09' '17.09' '18.09' '19.09' '20.09' '21.09'\n",
      " '22.09' '23.09' '24.09' '24.09l7yxJDFvTRM' '25.09' '26.09'\n",
      " '26.09t2oVUxTV4WA' '27.09' '28.09' '29.09' '30.09' '01.10' '02.10'\n",
      " '03.10' '04.10' '05.10' '06.10' '07.10' '08.10' '09.10' '10.10' '11.10'\n",
      " '12.10' '13.10' '14.10' '15.10' '16.10' '17.10' '18.10' '19.10' '20.10'\n",
      " '21.10' '22.10' '24.09xcaeyJTx4Co' '26.0903jeumSTSzc' '100']\n"
     ]
    }
   ],
   "source": [
    "print(videos['date'].unique())"
   ]
  },
  {
   "cell_type": "markdown",
   "metadata": {},
   "source": [
    "Observed that there are corrupted observations in column `date`, we need to cleanse them beforehand."
   ]
  },
  {
   "cell_type": "markdown",
   "metadata": {},
   "source": [
    "## Re-read Raw Data and Cleanse Date"
   ]
  },
  {
   "cell_type": "markdown",
   "metadata": {},
   "source": [
    "The followings will be done:\n",
    "- Observations with date in format dd.mm followed with `video_id`, `\\n` will be inserted in the middle\n",
    "- Observations with date = 100: only happens for date = `09.10` in US dataset, `100` will be replaced by empty string"
   ]
  },
  {
   "cell_type": "code",
   "execution_count": 4,
   "metadata": {},
   "outputs": [],
   "source": [
    "def cleanse_date(country, old_dates, new_dates):\n",
    "    with open('raw/{}videos.csv'.format(country), 'r', encoding='utf-8') as f:\n",
    "        data_string = f.read()\n",
    "    \n",
    "    for old_date, new_date in zip(old_dates, new_dates):\n",
    "        data_string = data_string.replace(old_date, new_date)\n",
    "    \n",
    "    return data_string"
   ]
  },
  {
   "cell_type": "code",
   "execution_count": 5,
   "metadata": {},
   "outputs": [],
   "source": [
    "gb = cleanse_date(\n",
    "    'GB',\n",
    "    ['24.09l7yxJDFvTRM', '26.09t2oVUxTV4WA'],\n",
    "    ['24.09\\nl7yxJDFvTRM', '26.09\\nt2oVUxTV4WA'])\n",
    "\n",
    "us = cleanse_date(\n",
    "    'US',\n",
    "    ['24.09xcaeyJTx4Co', '26.0903jeumSTSzc', '.jpg,100,09.10'],\n",
    "    ['24.09\\nxcaeyJTx4Co', '26.09\\n03jeumSTSzc', '.jpg,09.10'])"
   ]
  },
  {
   "cell_type": "markdown",
   "metadata": {},
   "source": [
    "We have to force the column type of `date` to be string. Otherwise, it will be imported as float."
   ]
  },
  {
   "cell_type": "code",
   "execution_count": 6,
   "metadata": {},
   "outputs": [],
   "source": [
    "gb_videos = pd.read_csv(StringIO(gb), dtype={'date': object}, na_values='[none]')\n",
    "us_videos = pd.read_csv(StringIO(us), dtype={'date': object}, na_values='[none]')\n",
    "\n",
    "gb_videos['country'] = 'GB'\n",
    "us_videos['country'] = 'US'\n",
    "\n",
    "videos = pd.concat([gb_videos, us_videos], ignore_index=True)"
   ]
  },
  {
   "cell_type": "markdown",
   "metadata": {},
   "source": [
    "Double check to see if `date` is fixed:"
   ]
  },
  {
   "cell_type": "code",
   "execution_count": 7,
   "metadata": {},
   "outputs": [
    {
     "name": "stdout",
     "output_type": "stream",
     "text": [
      "['13.09' '14.09' '15.09' '16.09' '17.09' '18.09' '19.09' '20.09' '21.09'\n",
      " '22.09' '23.09' '24.09' '25.09' '26.09' '27.09' '28.09' '29.09' '30.09'\n",
      " '01.10' '02.10' '03.10' '04.10' '05.10' '06.10' '07.10' '08.10' '09.10'\n",
      " '10.10' '11.10' '12.10' '13.10' '14.10' '15.10' '16.10' '17.10' '18.10'\n",
      " '19.10' '20.10' '21.10' '22.10']\n"
     ]
    }
   ],
   "source": [
    "print(videos['date'].unique())"
   ]
  },
  {
   "cell_type": "code",
   "execution_count": 8,
   "metadata": {},
   "outputs": [],
   "source": [
    "# Change date to datetime format\n",
    "videos['date'] = pd.to_datetime(videos['date'] + '.2017', format='%d.%m.%Y')"
   ]
  },
  {
   "cell_type": "markdown",
   "metadata": {},
   "source": [
    "## Further Cleansing"
   ]
  },
  {
   "cell_type": "markdown",
   "metadata": {},
   "source": [
    "Before uploading to S3 again, the followings will be checked:\n",
    "\n",
    "- Duplicates\n",
    "- Numebr of views should be monotonic increasing\n",
    "\n",
    "Any of above found will be removed immediately. Number of likes, dislikes and comments will not be checked as users can revoke their votes or delete their comments for a video."
   ]
  },
  {
   "cell_type": "code",
   "execution_count": 9,
   "metadata": {},
   "outputs": [],
   "source": [
    "# Remove duplicates\n",
    "videos = videos.drop_duplicates().reset_index(drop=True)"
   ]
  },
  {
   "cell_type": "code",
   "execution_count": 10,
   "metadata": {},
   "outputs": [],
   "source": [
    "# Check increasing\n",
    "check_increasing = videos.groupby(['video_id', 'country'])['views'].apply(lambda x: x.is_monotonic)\n",
    "check_increasing = check_increasing.reset_index()\n",
    "check_increasing.columns = ['video_id', 'country', 'view_increasing']"
   ]
  },
  {
   "cell_type": "code",
   "execution_count": 11,
   "metadata": {},
   "outputs": [
    {
     "data": {
      "text/html": [
       "<div>\n",
       "<style scoped>\n",
       "    .dataframe tbody tr th:only-of-type {\n",
       "        vertical-align: middle;\n",
       "    }\n",
       "\n",
       "    .dataframe tbody tr th {\n",
       "        vertical-align: top;\n",
       "    }\n",
       "\n",
       "    .dataframe thead th {\n",
       "        text-align: right;\n",
       "    }\n",
       "</style>\n",
       "<table border=\"1\" class=\"dataframe\">\n",
       "  <thead>\n",
       "    <tr style=\"text-align: right;\">\n",
       "      <th></th>\n",
       "      <th>video_id</th>\n",
       "      <th>country</th>\n",
       "      <th>view_increasing</th>\n",
       "    </tr>\n",
       "  </thead>\n",
       "  <tbody>\n",
       "    <tr>\n",
       "      <th>433</th>\n",
       "      <td>5gH8iXNW8wE</td>\n",
       "      <td>US</td>\n",
       "      <td>False</td>\n",
       "    </tr>\n",
       "  </tbody>\n",
       "</table>\n",
       "</div>"
      ],
      "text/plain": [
       "        video_id country  view_increasing\n",
       "433  5gH8iXNW8wE      US            False"
      ]
     },
     "execution_count": 11,
     "metadata": {},
     "output_type": "execute_result"
    }
   ],
   "source": [
    "check_increasing[check_increasing['view_increasing'] == False]"
   ]
  },
  {
   "cell_type": "markdown",
   "metadata": {},
   "source": [
    "Since a video with non-monotonic increasing view counts is found, we first take a look on what it looks like:"
   ]
  },
  {
   "cell_type": "code",
   "execution_count": 12,
   "metadata": {},
   "outputs": [
    {
     "data": {
      "text/html": [
       "<div>\n",
       "<style scoped>\n",
       "    .dataframe tbody tr th:only-of-type {\n",
       "        vertical-align: middle;\n",
       "    }\n",
       "\n",
       "    .dataframe tbody tr th {\n",
       "        vertical-align: top;\n",
       "    }\n",
       "\n",
       "    .dataframe thead th {\n",
       "        text-align: right;\n",
       "    }\n",
       "</style>\n",
       "<table border=\"1\" class=\"dataframe\">\n",
       "  <thead>\n",
       "    <tr style=\"text-align: right;\">\n",
       "      <th></th>\n",
       "      <th>video_id</th>\n",
       "      <th>title</th>\n",
       "      <th>channel_title</th>\n",
       "      <th>category_id</th>\n",
       "      <th>tags</th>\n",
       "      <th>views</th>\n",
       "      <th>likes</th>\n",
       "      <th>dislikes</th>\n",
       "      <th>comment_total</th>\n",
       "      <th>thumbnail_link</th>\n",
       "      <th>date</th>\n",
       "      <th>country</th>\n",
       "    </tr>\n",
       "  </thead>\n",
       "  <tbody>\n",
       "    <tr>\n",
       "      <th>14796</th>\n",
       "      <td>5gH8iXNW8wE</td>\n",
       "      <td>Celebrating Selena Quintanilla</td>\n",
       "      <td>googledoodles</td>\n",
       "      <td>10</td>\n",
       "      <td>NaN</td>\n",
       "      <td>657842</td>\n",
       "      <td>57230</td>\n",
       "      <td>1914</td>\n",
       "      <td>0</td>\n",
       "      <td>https://i.ytimg.com/vi/5gH8iXNW8wE/default.jpg</td>\n",
       "      <td>2017-10-17</td>\n",
       "      <td>US</td>\n",
       "    </tr>\n",
       "    <tr>\n",
       "      <th>14996</th>\n",
       "      <td>5gH8iXNW8wE</td>\n",
       "      <td>Celebrating Selena Quintanilla</td>\n",
       "      <td>googledoodles</td>\n",
       "      <td>10</td>\n",
       "      <td>NaN</td>\n",
       "      <td>0</td>\n",
       "      <td>0</td>\n",
       "      <td>0</td>\n",
       "      <td>0</td>\n",
       "      <td>https://i.ytimg.com/vi/5gH8iXNW8wE/default.jpg</td>\n",
       "      <td>2017-10-18</td>\n",
       "      <td>US</td>\n",
       "    </tr>\n",
       "    <tr>\n",
       "      <th>15205</th>\n",
       "      <td>5gH8iXNW8wE</td>\n",
       "      <td>Celebrating Selena Quintanilla</td>\n",
       "      <td>googledoodles</td>\n",
       "      <td>10</td>\n",
       "      <td>NaN</td>\n",
       "      <td>0</td>\n",
       "      <td>0</td>\n",
       "      <td>0</td>\n",
       "      <td>0</td>\n",
       "      <td>https://i.ytimg.com/vi/5gH8iXNW8wE/default.jpg</td>\n",
       "      <td>2017-10-19</td>\n",
       "      <td>US</td>\n",
       "    </tr>\n",
       "    <tr>\n",
       "      <th>15453</th>\n",
       "      <td>5gH8iXNW8wE</td>\n",
       "      <td>Celebrating Selena Quintanilla</td>\n",
       "      <td>googledoodles</td>\n",
       "      <td>10</td>\n",
       "      <td>NaN</td>\n",
       "      <td>0</td>\n",
       "      <td>0</td>\n",
       "      <td>0</td>\n",
       "      <td>0</td>\n",
       "      <td>https://i.ytimg.com/vi/5gH8iXNW8wE/default.jpg</td>\n",
       "      <td>2017-10-20</td>\n",
       "      <td>US</td>\n",
       "    </tr>\n",
       "    <tr>\n",
       "      <th>15703</th>\n",
       "      <td>5gH8iXNW8wE</td>\n",
       "      <td>Celebrating Selena Quintanilla</td>\n",
       "      <td>googledoodles</td>\n",
       "      <td>10</td>\n",
       "      <td>NaN</td>\n",
       "      <td>0</td>\n",
       "      <td>0</td>\n",
       "      <td>0</td>\n",
       "      <td>0</td>\n",
       "      <td>https://i.ytimg.com/vi/5gH8iXNW8wE/default.jpg</td>\n",
       "      <td>2017-10-21</td>\n",
       "      <td>US</td>\n",
       "    </tr>\n",
       "    <tr>\n",
       "      <th>15930</th>\n",
       "      <td>5gH8iXNW8wE</td>\n",
       "      <td>Celebrating Selena Quintanilla</td>\n",
       "      <td>googledoodles</td>\n",
       "      <td>10</td>\n",
       "      <td>NaN</td>\n",
       "      <td>0</td>\n",
       "      <td>0</td>\n",
       "      <td>0</td>\n",
       "      <td>0</td>\n",
       "      <td>https://i.ytimg.com/vi/5gH8iXNW8wE/default.jpg</td>\n",
       "      <td>2017-10-22</td>\n",
       "      <td>US</td>\n",
       "    </tr>\n",
       "  </tbody>\n",
       "</table>\n",
       "</div>"
      ],
      "text/plain": [
       "          video_id                           title  channel_title  \\\n",
       "14796  5gH8iXNW8wE  Celebrating Selena Quintanilla  googledoodles   \n",
       "14996  5gH8iXNW8wE  Celebrating Selena Quintanilla  googledoodles   \n",
       "15205  5gH8iXNW8wE  Celebrating Selena Quintanilla  googledoodles   \n",
       "15453  5gH8iXNW8wE  Celebrating Selena Quintanilla  googledoodles   \n",
       "15703  5gH8iXNW8wE  Celebrating Selena Quintanilla  googledoodles   \n",
       "15930  5gH8iXNW8wE  Celebrating Selena Quintanilla  googledoodles   \n",
       "\n",
       "       category_id tags   views  likes  dislikes  comment_total  \\\n",
       "14796           10  NaN  657842  57230      1914              0   \n",
       "14996           10  NaN       0      0         0              0   \n",
       "15205           10  NaN       0      0         0              0   \n",
       "15453           10  NaN       0      0         0              0   \n",
       "15703           10  NaN       0      0         0              0   \n",
       "15930           10  NaN       0      0         0              0   \n",
       "\n",
       "                                       thumbnail_link       date country  \n",
       "14796  https://i.ytimg.com/vi/5gH8iXNW8wE/default.jpg 2017-10-17      US  \n",
       "14996  https://i.ytimg.com/vi/5gH8iXNW8wE/default.jpg 2017-10-18      US  \n",
       "15205  https://i.ytimg.com/vi/5gH8iXNW8wE/default.jpg 2017-10-19      US  \n",
       "15453  https://i.ytimg.com/vi/5gH8iXNW8wE/default.jpg 2017-10-20      US  \n",
       "15703  https://i.ytimg.com/vi/5gH8iXNW8wE/default.jpg 2017-10-21      US  \n",
       "15930  https://i.ytimg.com/vi/5gH8iXNW8wE/default.jpg 2017-10-22      US  "
      ]
     },
     "execution_count": 12,
     "metadata": {},
     "output_type": "execute_result"
    }
   ],
   "source": [
    "videos.query('video_id == \"5gH8iXNW8wE\" and country == \"US\"')"
   ]
  },
  {
   "cell_type": "markdown",
   "metadata": {},
   "source": [
    "After searching this video in Youtube, it seems that views, likes, dislikes and comments are disabled for this video. This video will be removed from analysis."
   ]
  },
  {
   "cell_type": "code",
   "execution_count": 13,
   "metadata": {},
   "outputs": [],
   "source": [
    "videos = videos.merge(\n",
    "    check_increasing,\n",
    "    on=['video_id', 'country'],\n",
    "    how='left').query('view_increasing').drop('view_increasing', axis=1).reset_index(drop=True)"
   ]
  },
  {
   "cell_type": "markdown",
   "metadata": {},
   "source": [
    "## Get Category Name from JSON"
   ]
  },
  {
   "cell_type": "code",
   "execution_count": 14,
   "metadata": {},
   "outputs": [],
   "source": [
    "def get_category_name(country):\n",
    "    with open('raw/{}_category_id.json'.format(country), 'r') as f:\n",
    "        json_cat = json.load(f)\n",
    "        \n",
    "    category_name = {'category_id': [], 'category_name': [], 'country': country}\n",
    "    for item in json_cat['items']:\n",
    "        category_name['category_id'] += [int(item['id'])]\n",
    "        category_name['category_name'] += [item['snippet']['title']]\n",
    "    \n",
    "    return pd.DataFrame(category_name)"
   ]
  },
  {
   "cell_type": "code",
   "execution_count": 15,
   "metadata": {},
   "outputs": [],
   "source": [
    "gb_category_names = get_category_name('GB')\n",
    "us_category_names = get_category_name('US')\n",
    "\n",
    "category_names = pd.concat([gb_category_names, us_category_names], ignore_index=True)"
   ]
  },
  {
   "cell_type": "code",
   "execution_count": 16,
   "metadata": {},
   "outputs": [],
   "source": [
    "videos = videos.merge(category_names, on=['category_id', 'country'], how='left')"
   ]
  },
  {
   "cell_type": "markdown",
   "metadata": {},
   "source": [
    "See if any videos cannot be associated with a category name:"
   ]
  },
  {
   "cell_type": "code",
   "execution_count": 17,
   "metadata": {},
   "outputs": [
    {
     "data": {
      "text/html": [
       "<div>\n",
       "<style scoped>\n",
       "    .dataframe tbody tr th:only-of-type {\n",
       "        vertical-align: middle;\n",
       "    }\n",
       "\n",
       "    .dataframe tbody tr th {\n",
       "        vertical-align: top;\n",
       "    }\n",
       "\n",
       "    .dataframe thead th {\n",
       "        text-align: right;\n",
       "    }\n",
       "</style>\n",
       "<table border=\"1\" class=\"dataframe\">\n",
       "  <thead>\n",
       "    <tr style=\"text-align: right;\">\n",
       "      <th></th>\n",
       "      <th>video_id</th>\n",
       "      <th>title</th>\n",
       "      <th>channel_title</th>\n",
       "      <th>category_id</th>\n",
       "      <th>tags</th>\n",
       "      <th>views</th>\n",
       "      <th>likes</th>\n",
       "      <th>dislikes</th>\n",
       "      <th>comment_total</th>\n",
       "      <th>thumbnail_link</th>\n",
       "      <th>date</th>\n",
       "      <th>country</th>\n",
       "      <th>category_name</th>\n",
       "    </tr>\n",
       "  </thead>\n",
       "  <tbody>\n",
       "    <tr>\n",
       "      <th>114</th>\n",
       "      <td>A520AWwJ9lQ</td>\n",
       "      <td>XQ Super School Live | Broadcast and Pre-Show</td>\n",
       "      <td>XQ America</td>\n",
       "      <td>29</td>\n",
       "      <td>NaN</td>\n",
       "      <td>104920</td>\n",
       "      <td>268</td>\n",
       "      <td>60</td>\n",
       "      <td>6</td>\n",
       "      <td>https://i.ytimg.com/vi/A520AWwJ9lQ/default.jpg</td>\n",
       "      <td>2017-09-13</td>\n",
       "      <td>GB</td>\n",
       "      <td>NaN</td>\n",
       "    </tr>\n",
       "    <tr>\n",
       "      <th>340</th>\n",
       "      <td>A520AWwJ9lQ</td>\n",
       "      <td>XQ Super School Live | Broadcast and Pre-Show</td>\n",
       "      <td>XQ America</td>\n",
       "      <td>29</td>\n",
       "      <td>NaN</td>\n",
       "      <td>114203</td>\n",
       "      <td>270</td>\n",
       "      <td>62</td>\n",
       "      <td>8</td>\n",
       "      <td>https://i.ytimg.com/vi/A520AWwJ9lQ/default.jpg</td>\n",
       "      <td>2017-09-14</td>\n",
       "      <td>GB</td>\n",
       "      <td>NaN</td>\n",
       "    </tr>\n",
       "    <tr>\n",
       "      <th>539</th>\n",
       "      <td>k2EIFLJIINA</td>\n",
       "      <td>Sonic Mania - Green Hill Zone Act 1 in 0'28'61...</td>\n",
       "      <td>Jerrel Syrup</td>\n",
       "      <td>29</td>\n",
       "      <td>sonic|mania|speed|run|green|hill|zone|act|time...</td>\n",
       "      <td>11405</td>\n",
       "      <td>52</td>\n",
       "      <td>0</td>\n",
       "      <td>20</td>\n",
       "      <td>https://i.ytimg.com/vi/k2EIFLJIINA/default.jpg</td>\n",
       "      <td>2017-09-15</td>\n",
       "      <td>GB</td>\n",
       "      <td>NaN</td>\n",
       "    </tr>\n",
       "    <tr>\n",
       "      <th>584</th>\n",
       "      <td>A520AWwJ9lQ</td>\n",
       "      <td>XQ Super School Live | Broadcast and Pre-Show</td>\n",
       "      <td>XQ America</td>\n",
       "      <td>29</td>\n",
       "      <td>NaN</td>\n",
       "      <td>119431</td>\n",
       "      <td>274</td>\n",
       "      <td>62</td>\n",
       "      <td>8</td>\n",
       "      <td>https://i.ytimg.com/vi/A520AWwJ9lQ/default.jpg</td>\n",
       "      <td>2017-09-15</td>\n",
       "      <td>GB</td>\n",
       "      <td>NaN</td>\n",
       "    </tr>\n",
       "    <tr>\n",
       "      <th>782</th>\n",
       "      <td>k2EIFLJIINA</td>\n",
       "      <td>Sonic Mania - Green Hill Zone Act 1 in 0'28'61...</td>\n",
       "      <td>Jerrel Syrup</td>\n",
       "      <td>29</td>\n",
       "      <td>sonic|mania|speed|run|green|hill|zone|act|time...</td>\n",
       "      <td>11637</td>\n",
       "      <td>54</td>\n",
       "      <td>0</td>\n",
       "      <td>19</td>\n",
       "      <td>https://i.ytimg.com/vi/k2EIFLJIINA/default.jpg</td>\n",
       "      <td>2017-09-16</td>\n",
       "      <td>GB</td>\n",
       "      <td>NaN</td>\n",
       "    </tr>\n",
       "    <tr>\n",
       "      <th>2688</th>\n",
       "      <td>iPVqwl5dUbw</td>\n",
       "      <td>Denise Welch opens up about losing her mum to ...</td>\n",
       "      <td>Cancer Research UK</td>\n",
       "      <td>29</td>\n",
       "      <td>Cancer Research UK|cancer patient|CR-UK|CRUK|c...</td>\n",
       "      <td>1475</td>\n",
       "      <td>12</td>\n",
       "      <td>0</td>\n",
       "      <td>0</td>\n",
       "      <td>https://i.ytimg.com/vi/iPVqwl5dUbw/default.jpg</td>\n",
       "      <td>2017-09-26</td>\n",
       "      <td>GB</td>\n",
       "      <td>NaN</td>\n",
       "    </tr>\n",
       "    <tr>\n",
       "      <th>2963</th>\n",
       "      <td>iPVqwl5dUbw</td>\n",
       "      <td>Denise Welch opens up about losing her mum to ...</td>\n",
       "      <td>Cancer Research UK</td>\n",
       "      <td>29</td>\n",
       "      <td>Cancer Research UK|cancer patient|CR-UK|CRUK|c...</td>\n",
       "      <td>1510</td>\n",
       "      <td>12</td>\n",
       "      <td>0</td>\n",
       "      <td>0</td>\n",
       "      <td>https://i.ytimg.com/vi/iPVqwl5dUbw/default.jpg</td>\n",
       "      <td>2017-09-27</td>\n",
       "      <td>GB</td>\n",
       "      <td>NaN</td>\n",
       "    </tr>\n",
       "    <tr>\n",
       "      <th>3564</th>\n",
       "      <td>oFPSsGg6lJI</td>\n",
       "      <td>Manon Carpenter supports Cycling UK's Trails f...</td>\n",
       "      <td>Cycling UK</td>\n",
       "      <td>29</td>\n",
       "      <td>cycling|mountain biking|Trails for Wales|MTB|W...</td>\n",
       "      <td>1441</td>\n",
       "      <td>5</td>\n",
       "      <td>0</td>\n",
       "      <td>0</td>\n",
       "      <td>https://i.ytimg.com/vi/oFPSsGg6lJI/default.jpg</td>\n",
       "      <td>2017-09-30</td>\n",
       "      <td>GB</td>\n",
       "      <td>NaN</td>\n",
       "    </tr>\n",
       "  </tbody>\n",
       "</table>\n",
       "</div>"
      ],
      "text/plain": [
       "         video_id                                              title  \\\n",
       "114   A520AWwJ9lQ      XQ Super School Live | Broadcast and Pre-Show   \n",
       "340   A520AWwJ9lQ      XQ Super School Live | Broadcast and Pre-Show   \n",
       "539   k2EIFLJIINA  Sonic Mania - Green Hill Zone Act 1 in 0'28'61...   \n",
       "584   A520AWwJ9lQ      XQ Super School Live | Broadcast and Pre-Show   \n",
       "782   k2EIFLJIINA  Sonic Mania - Green Hill Zone Act 1 in 0'28'61...   \n",
       "2688  iPVqwl5dUbw  Denise Welch opens up about losing her mum to ...   \n",
       "2963  iPVqwl5dUbw  Denise Welch opens up about losing her mum to ...   \n",
       "3564  oFPSsGg6lJI  Manon Carpenter supports Cycling UK's Trails f...   \n",
       "\n",
       "           channel_title  category_id  \\\n",
       "114           XQ America           29   \n",
       "340           XQ America           29   \n",
       "539         Jerrel Syrup           29   \n",
       "584           XQ America           29   \n",
       "782         Jerrel Syrup           29   \n",
       "2688  Cancer Research UK           29   \n",
       "2963  Cancer Research UK           29   \n",
       "3564          Cycling UK           29   \n",
       "\n",
       "                                                   tags   views  likes  \\\n",
       "114                                                 NaN  104920    268   \n",
       "340                                                 NaN  114203    270   \n",
       "539   sonic|mania|speed|run|green|hill|zone|act|time...   11405     52   \n",
       "584                                                 NaN  119431    274   \n",
       "782   sonic|mania|speed|run|green|hill|zone|act|time...   11637     54   \n",
       "2688  Cancer Research UK|cancer patient|CR-UK|CRUK|c...    1475     12   \n",
       "2963  Cancer Research UK|cancer patient|CR-UK|CRUK|c...    1510     12   \n",
       "3564  cycling|mountain biking|Trails for Wales|MTB|W...    1441      5   \n",
       "\n",
       "      dislikes  comment_total                                  thumbnail_link  \\\n",
       "114         60              6  https://i.ytimg.com/vi/A520AWwJ9lQ/default.jpg   \n",
       "340         62              8  https://i.ytimg.com/vi/A520AWwJ9lQ/default.jpg   \n",
       "539          0             20  https://i.ytimg.com/vi/k2EIFLJIINA/default.jpg   \n",
       "584         62              8  https://i.ytimg.com/vi/A520AWwJ9lQ/default.jpg   \n",
       "782          0             19  https://i.ytimg.com/vi/k2EIFLJIINA/default.jpg   \n",
       "2688         0              0  https://i.ytimg.com/vi/iPVqwl5dUbw/default.jpg   \n",
       "2963         0              0  https://i.ytimg.com/vi/iPVqwl5dUbw/default.jpg   \n",
       "3564         0              0  https://i.ytimg.com/vi/oFPSsGg6lJI/default.jpg   \n",
       "\n",
       "           date country category_name  \n",
       "114  2017-09-13      GB           NaN  \n",
       "340  2017-09-14      GB           NaN  \n",
       "539  2017-09-15      GB           NaN  \n",
       "584  2017-09-15      GB           NaN  \n",
       "782  2017-09-16      GB           NaN  \n",
       "2688 2017-09-26      GB           NaN  \n",
       "2963 2017-09-27      GB           NaN  \n",
       "3564 2017-09-30      GB           NaN  "
      ]
     },
     "execution_count": 17,
     "metadata": {},
     "output_type": "execute_result"
    }
   ],
   "source": [
    "videos[pd.isna(videos['category_name'])]"
   ]
  },
  {
   "cell_type": "markdown",
   "metadata": {},
   "source": [
    "There are 4 videos, a total of 8 records which do not have category name. They all have the same Category ID, 29, from UK. They will be removed from analysis as well since they do not account for a large propotion of the data."
   ]
  },
  {
   "cell_type": "code",
   "execution_count": 18,
   "metadata": {},
   "outputs": [],
   "source": [
    "videos = videos[~pd.isna(videos['category_name'])].reset_index(drop=True)"
   ]
  },
  {
   "cell_type": "markdown",
   "metadata": {},
   "source": [
    "## Video Tags"
   ]
  },
  {
   "cell_type": "markdown",
   "metadata": {},
   "source": [
    "We will also create a dataframe with video id and tags."
   ]
  },
  {
   "cell_type": "code",
   "execution_count": 19,
   "metadata": {},
   "outputs": [],
   "source": [
    "videos_with_tags = videos[~pd.isna(videos['tags'])]"
   ]
  },
  {
   "cell_type": "code",
   "execution_count": 20,
   "metadata": {},
   "outputs": [],
   "source": [
    "video_tags = pd.DataFrame(\n",
    "    videos_with_tags['tags'].str.split('|').tolist(),\n",
    "    index=videos_with_tags['video_id']).stack()"
   ]
  },
  {
   "cell_type": "code",
   "execution_count": 21,
   "metadata": {},
   "outputs": [],
   "source": [
    "video_tags = video_tags.reset_index(['video_id', 0])\n",
    "video_tags.columns = ['video_id', 'tag']"
   ]
  },
  {
   "cell_type": "markdown",
   "metadata": {},
   "source": [
    "## Get Latest Date for Each Video by Country"
   ]
  },
  {
   "cell_type": "code",
   "execution_count": 22,
   "metadata": {},
   "outputs": [],
   "source": [
    "latest_dates = videos.groupby(['video_id', 'country'])['date'].max().reset_index()\n",
    "latest_dates['latest_date'] = 1\n",
    "\n",
    "videos = videos.merge(latest_dates, on=['video_id', 'country', 'date'], how='left')\n",
    "videos['latest_date'].fillna(0, inplace=True)\n",
    "videos['latest_date'] = videos['latest_date'].astype(int)"
   ]
  },
  {
   "cell_type": "markdown",
   "metadata": {},
   "source": [
    "## Output Cleansed Data"
   ]
  },
  {
   "cell_type": "code",
   "execution_count": 23,
   "metadata": {},
   "outputs": [],
   "source": [
    "videos = videos[\n",
    "    ['video_id', 'title', 'channel_title', 'category_name', 'views',\n",
    "     'likes', 'dislikes', 'comment_total', 'date', 'country', 'latest_date']]"
   ]
  },
  {
   "cell_type": "code",
   "execution_count": 24,
   "metadata": {},
   "outputs": [],
   "source": [
    "videos.to_csv('cleansed/videos.csv', index=False)\n",
    "video_tags.to_csv('cleansed/video_tags.csv', index=False)"
   ]
  }
 ],
 "metadata": {
  "kernelspec": {
   "display_name": "Python 3",
   "language": "python",
   "name": "python3"
  },
  "language_info": {
   "codemirror_mode": {
    "name": "ipython",
    "version": 3
   },
   "file_extension": ".py",
   "mimetype": "text/x-python",
   "name": "python",
   "nbconvert_exporter": "python",
   "pygments_lexer": "ipython3",
   "version": "3.6.5"
  }
 },
 "nbformat": 4,
 "nbformat_minor": 2
}
